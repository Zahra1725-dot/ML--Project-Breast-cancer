{
  "nbformat": 4,
  "nbformat_minor": 0,
  "metadata": {
    "colab": {
      "provenance": [],
      "gpuType": "T4",
      "authorship_tag": "ABX9TyM6885TUJmRvEken3ApRuD1",
      "include_colab_link": true
    },
    "kernelspec": {
      "name": "python3",
      "display_name": "Python 3"
    },
    "language_info": {
      "name": "python"
    },
    "accelerator": "GPU"
  },
  "cells": [
    {
      "cell_type": "markdown",
      "metadata": {
        "id": "view-in-github",
        "colab_type": "text"
      },
      "source": [
        "<a href=\"https://colab.research.google.com/github/Zahra1725-dot/ML-Projects/blob/main/cross_validation.ipynb\" target=\"_parent\"><img src=\"https://colab.research.google.com/assets/colab-badge.svg\" alt=\"Open In Colab\"/></a>"
      ]
    },
    {
      "cell_type": "code",
      "execution_count": null,
      "metadata": {
        "id": "4bNZRVSlobKC"
      },
      "outputs": [],
      "source": [
        "import tensorflow as tf\n",
        "from tensorflow import keras\n",
        "import numpy as np\n",
        "import sklearn"
      ]
    },
    {
      "cell_type": "markdown",
      "source": [
        "## generat dataset"
      ],
      "metadata": {
        "id": "CLnn81w9o7us"
      }
    },
    {
      "cell_type": "code",
      "source": [
        "from sklearn.datasets import make_classification"
      ],
      "metadata": {
        "id": "9Nb_D5yao7WG"
      },
      "execution_count": 87,
      "outputs": []
    },
    {
      "cell_type": "code",
      "source": [
        "X,y = make_classification(n_samples=1000, n_features=20, n_informative=10, n_redundant=2, n_classes=2, random_state=0)\n",
        "\n",
        "from sklearn.model_selection import train_test_split\n",
        "X_train_val, X_test, y_train_val, y_test = train_test_split(X,y, test_size= 0.2)"
      ],
      "metadata": {
        "id": "_LF9nGCxpRsv"
      },
      "execution_count": 88,
      "outputs": []
    },
    {
      "cell_type": "code",
      "source": [
        "from sklearn.preprocessing import StandardScaler\n",
        "scaler = StandardScaler()\n",
        "X_train_val = scaler.fit_transform(X_train_val)\n",
        "X_test = scaler.transform(X_test)"
      ],
      "metadata": {
        "id": "2vMrzQZDqfbk"
      },
      "execution_count": 89,
      "outputs": []
    },
    {
      "cell_type": "code",
      "source": [
        "X_train_val.shape, y_train_val.shape"
      ],
      "metadata": {
        "id": "CDzWM6abrOAk"
      },
      "execution_count": null,
      "outputs": []
    },
    {
      "cell_type": "code",
      "source": [
        "\n",
        "def create_model():\n",
        "  model = keras.Sequential()\n",
        "  model.add(keras.layers.Dense(units=64, activation='relu', input_shape=(20,)))\n",
        "  model.add(keras.layers.Dense(units=64, activation='relu'))\n",
        "  model.add(keras.layers.Dense(units=1, activation='sigmoid'))\n",
        "\n",
        "  model.compile(optimizer=tf.optimizers.Adam(), loss = tf.losses.BinaryCrossentropy, metrics=['accuracy'])\n",
        "  return model"
      ],
      "metadata": {
        "id": "t_fydRJ3rZqr"
      },
      "execution_count": 91,
      "outputs": []
    },
    {
      "cell_type": "code",
      "source": [
        "from sklearn.model_selection import KFold\n",
        "\n",
        "KFold= KFold(n_splits=5, shuffle=True, random_state=0)"
      ],
      "metadata": {
        "id": "mIKi2Vfns13b"
      },
      "execution_count": 92,
      "outputs": []
    },
    {
      "cell_type": "code",
      "source": [
        "total_accuracy = []\n",
        "val_accuracy = []"
      ],
      "metadata": {
        "id": "331wfei5wLla"
      },
      "execution_count": 93,
      "outputs": []
    },
    {
      "cell_type": "code",
      "source": [
        "for flod, (train_index, val_index) in enumerate(KFold.split(X_train_val)):\n",
        "  X_train, X_val = X_train_val[train_index], X_train_val[train_index]\n",
        "  y_train, y_val = y_train_val[train_index], y_train_val[train_index]"
      ],
      "metadata": {
        "id": "VLSrknWetm3s"
      },
      "execution_count": 94,
      "outputs": []
    },
    {
      "cell_type": "code",
      "source": [
        "model = create_model()"
      ],
      "metadata": {
        "id": "rpLXzhXfuwsV"
      },
      "execution_count": null,
      "outputs": []
    },
    {
      "cell_type": "code",
      "source": [
        "model.fit(X_train, y_train, batch_size=32, epochs=20, verbose=0 )"
      ],
      "metadata": {
        "id": "UbsCiQjDu6Ux"
      },
      "execution_count": null,
      "outputs": []
    },
    {
      "cell_type": "code",
      "source": [
        "y_pred = model.predict(X_val)\n",
        "y_pred = (y_pred>0.5).astype('int32')"
      ],
      "metadata": {
        "id": "8DevYKJFvZeq"
      },
      "execution_count": null,
      "outputs": []
    },
    {
      "cell_type": "code",
      "source": [
        "from sklearn.metrics import  accuracy_score\n"
      ],
      "metadata": {
        "id": "07AV9pdFv0yS"
      },
      "execution_count": 98,
      "outputs": []
    },
    {
      "cell_type": "code",
      "source": [
        "accuracy= np.mean(y_pred.flatten()==y_val)"
      ],
      "metadata": {
        "id": "vEzvbEZBwUOC"
      },
      "execution_count": 107,
      "outputs": []
    },
    {
      "cell_type": "code",
      "source": [
        "total_accuracy.append(accuracy)\n"
      ],
      "metadata": {
        "id": "kdaW0x4GwkqE"
      },
      "execution_count": 99,
      "outputs": []
    },
    {
      "cell_type": "code",
      "source": [
        "print(f'acc Flod {flod+1}: {accuracy: 4f}')\n"
      ],
      "metadata": {
        "id": "QrBjPb6uw20V"
      },
      "execution_count": null,
      "outputs": []
    },
    {
      "cell_type": "code",
      "source": [
        "final_model = create_model()\n"
      ],
      "metadata": {
        "id": "cBwTqGlKxyYx"
      },
      "execution_count": 101,
      "outputs": []
    },
    {
      "cell_type": "code",
      "source": [
        "final_model.fit(X_train_val, y_train_val, epochs= 20, batch_size=32, verbose=0)"
      ],
      "metadata": {
        "id": "6HqJHoMCyjPM"
      },
      "execution_count": null,
      "outputs": []
    },
    {
      "cell_type": "code",
      "source": [
        "y_test_pred= final_model.predict(X_test)\n",
        "y_test_pred = (y_test_pred>0.5).astype('int32')"
      ],
      "metadata": {
        "colab": {
          "base_uri": "https://localhost:8080/"
        },
        "id": "m7qMeDLqzTMB",
        "outputId": "091543d6-6c41-466b-c5ec-352c3ddd46b8"
      },
      "execution_count": 103,
      "outputs": [
        {
          "output_type": "stream",
          "name": "stdout",
          "text": [
            "\u001b[1m7/7\u001b[0m \u001b[32m━━━━━━━━━━━━━━━━━━━━\u001b[0m\u001b[37m\u001b[0m \u001b[1m0s\u001b[0m 9ms/step \n"
          ]
        }
      ]
    },
    {
      "cell_type": "code",
      "source": [
        "test_accuracy = np.mean(y_test_pred.flatten()==y_test)"
      ],
      "metadata": {
        "id": "YPcH4ybozrAy"
      },
      "execution_count": 104,
      "outputs": []
    },
    {
      "cell_type": "code",
      "source": [
        "print(f'final_accracy: {test_accuracy: .4f}')"
      ],
      "metadata": {
        "id": "Eli8ZPH5z6no"
      },
      "execution_count": null,
      "outputs": []
    }
  ]
}