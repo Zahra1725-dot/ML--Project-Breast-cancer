{
 "cells": [
  {
   "cell_type": "code",
   "execution_count": 1,
   "id": "2307cac1",
   "metadata": {},
   "outputs": [],
   "source": [
    "from sklearn.datasets import load_digits\n",
    "digits = load_digits()"
   ]
  },
  {
   "cell_type": "code",
   "execution_count": null,
   "id": "67222ce0",
   "metadata": {},
   "outputs": [],
   "source": [
    "print(digits.DESCR)"
   ]
  },
  {
   "cell_type": "code",
   "execution_count": null,
   "id": "e42495ae",
   "metadata": {},
   "outputs": [],
   "source": [
    "digits.target.shape"
   ]
  },
  {
   "cell_type": "code",
   "execution_count": null,
   "id": "75bd8353",
   "metadata": {},
   "outputs": [],
   "source": [
    "digits.data.shape"
   ]
  },
  {
   "cell_type": "code",
   "execution_count": null,
   "id": "0144a016",
   "metadata": {},
   "outputs": [],
   "source": [
    "digits.images.shape"
   ]
  },
  {
   "cell_type": "code",
   "execution_count": null,
   "id": "5afaac37",
   "metadata": {},
   "outputs": [],
   "source": [
    "import matplotlib.pyplot as plt\n",
    "x=digits.images[87]\n",
    "print(digits.target[87])\n",
    "plt.gray()     #for black and whit image\n",
    "plt.imshow(x)      # to show image\n",
    "plt.show()\n"
   ]
  },
  {
   "cell_type": "markdown",
   "id": "54234085",
   "metadata": {},
   "source": [
    "# Preproccessing"
   ]
  },
  {
   "cell_type": "code",
   "execution_count": null,
   "id": "df91db7a",
   "metadata": {},
   "outputs": [],
   "source": [
    "from sklearn.model_selection import train_test_split\n",
    "x_train, x_test, y_train, y_test = train_test_split(digits.data, digits.target, test_size=0.3)\n",
    "x_train.shape,x_train.shape, y_train.shape, y_test.shape"
   ]
  },
  {
   "cell_type": "code",
   "execution_count": null,
   "id": "14be2df2",
   "metadata": {},
   "outputs": [],
   "source": [
    "x_train[0]"
   ]
  },
  {
   "cell_type": "markdown",
   "id": "6e0ce59d",
   "metadata": {},
   "source": [
    "# Preproccessing"
   ]
  },
  {
   "cell_type": "code",
   "execution_count": 21,
   "id": "6fcc1d01",
   "metadata": {},
   "outputs": [],
   "source": [
    "from sklearn.preprocessing import MinMaxScaler\n",
    "scaler = MinMaxScaler(feature_range=(0,1))\n",
    "x_train = scaler.fit_transform(x_train)\n",
    "x_test = scaler.transform(x_test)"
   ]
  },
  {
   "cell_type": "code",
   "execution_count": null,
   "id": "2b22032c",
   "metadata": {},
   "outputs": [],
   "source": [
    "x_train[0]"
   ]
  },
  {
   "cell_type": "markdown",
   "id": "071006c7",
   "metadata": {},
   "source": [
    "# Performance metrics"
   ]
  },
  {
   "cell_type": "code",
   "execution_count": null,
   "id": "e7efbd31",
   "metadata": {},
   "outputs": [],
   "source": [
    "from sklearn.metrics import accuracy_score, precision_score, recall_score\n",
    "\n",
    "def calculate_metrics(y_train, y_test, y_pred_train, y_pred_test):\n",
    "    acc_train = accuracy_score(y_train, y_pred_train)\n",
    "    acc_test = accuracy_score(y_test, y_pred_test)\n",
    "    p = precision_score(y_test, y_pred_test, average='weighted')\n",
    "    r = recall_score(y_test, y_pred_test, average='weighted')\n",
    "    \n",
    "    print(f\"acc_train: {acc_train} -acc_test: {acc_test} - precision: {p} - recall: {r}\")\n",
    "    return acc_train, acc_test, p, r"
   ]
  },
  {
   "cell_type": "markdown",
   "id": "9b077cba",
   "metadata": {},
   "source": [
    "# Random Forest"
   ]
  },
  {
   "cell_type": "code",
   "execution_count": null,
   "id": "77404a3a",
   "metadata": {},
   "outputs": [],
   "source": [
    "from sklearn.ensemble import RandomForestClassifier\n",
    "rf = RandomForestClassifier(max_depth=128, n_estimators=200, criterion= 'gini')\n",
    "rf.fit(x_train, y_train)"
   ]
  },
  {
   "cell_type": "code",
   "execution_count": null,
   "id": "bdd5c079",
   "metadata": {},
   "outputs": [],
   "source": [
    "y_pred_train = rf.predict(x_train)\n",
    "y_pred_test = rf.predict(x_test)\n",
    "acc_train_rf, acc_test_rf, p_rf, r_rf = calculate_metrics(y_train, y_test, y_pred_train, y_pred_test)"
   ]
  },
  {
   "cell_type": "markdown",
   "id": "af120361",
   "metadata": {},
   "source": [
    "# SVM"
   ]
  },
  {
   "cell_type": "code",
   "execution_count": null,
   "id": "b6e91eaf",
   "metadata": {},
   "outputs": [],
   "source": [
    "from sklearn.svm import SVC\n",
    "svm = SVC(kernel= 'poly')\n",
    "svm.fit(x_train, y_train)\n"
   ]
  },
  {
   "cell_type": "code",
   "execution_count": null,
   "id": "e936e2f0",
   "metadata": {},
   "outputs": [],
   "source": [
    "y_pred_train = svm.predict(x_train)\n",
    "y_pred_test = svm.predict(x_test)\n",
    "acc_train_svm, acc_test_svm, p_svm, r_svmh = calculate_metrics(y_train, y_test, y_pred_train, y_pred_test)"
   ]
  },
  {
   "cell_type": "markdown",
   "id": "e3a78f65",
   "metadata": {},
   "source": [
    "# ANN"
   ]
  },
  {
   "cell_type": "code",
   "execution_count": null,
   "id": "7dc90954",
   "metadata": {},
   "outputs": [],
   "source": [
    "from sklearn.neural_network import MLPClassifier\n",
    "ann = MLPClassifier(hidden_layer_sizes= 256, batch_size=64, learning_rate= 'adaptive')\n",
    "ann.fit(x_train, y_train)"
   ]
  },
  {
   "cell_type": "code",
   "execution_count": null,
   "id": "de360b80",
   "metadata": {},
   "outputs": [],
   "source": [
    "y_pred_train = ann.predict(x_train)\n",
    "y_pred_test = ann.predict(x_test)\n",
    "acc_train_ann, acc_test_ann, p_ann, r_ann = calculate_metrics(y_train, y_test, y_pred_train, y_pred_test)"
   ]
  },
  {
   "cell_type": "markdown",
   "id": "db785f05",
   "metadata": {},
   "source": [
    "# KNN "
   ]
  },
  {
   "cell_type": "code",
   "execution_count": null,
   "id": "6f260650",
   "metadata": {},
   "outputs": [],
   "source": [
    "from sklearn.neighbors import KNeighborsClassifier\n",
    "knn = KNeighborsClassifier(n_neighbors=8)\n",
    "knn.fit(x_train, y_train)"
   ]
  },
  {
   "cell_type": "code",
   "execution_count": null,
   "id": "ea6ada87",
   "metadata": {},
   "outputs": [],
   "source": [
    "y_pred_train = knn.predict(x_train)\n",
    "y_pred_test = knn.predict(x_test)\n",
    "acc_train_knn, acc_test_knn, p_knn, r_knn = calculate_metrics(y_train, y_test, y_pred_train, y_pred_test)"
   ]
  },
  {
   "cell_type": "markdown",
   "id": "002bd1cd",
   "metadata": {},
   "source": [
    "# COMPARISON"
   ]
  },
  {
   "cell_type": "code",
   "execution_count": 73,
   "id": "0b4932f6",
   "metadata": {},
   "outputs": [
    {
     "data": {
      "image/png": "[encoded data removed]",
      "text/plain": [
       "<Figure size 640x480 with 1 Axes>"
      ]
     },
     "metadata": {},
     "output_type": "display_data"
    }
   ],
   "source": [
    "import matplotlib.pyplot as plt\n",
    "\n",
    "acc_train = [ acc_train_knn, acc_train_rf, acc_train_svm, acc_train_ann]\n",
    "title = [ \"KNN\",  \"RF\", \"SVM\",  \"ANN\"]\n",
    "colors = ['green','red', 'purple', 'orange']\n",
    "plt.bar(title, acc_train, color = colors)\n",
    "plt.grid()\n",
    "plt.show()"
   ]
  },
  {
   "cell_type": "code",
   "execution_count": 75,
   "id": "634f04e2",
   "metadata": {},
   "outputs": [
    {
     "data": {
      "image/png": "[encoded data removed]",
      "text/plain": [
       "<Figure size 640x480 with 1 Axes>"
      ]
     },
     "metadata": {},
     "output_type": "display_data"
    }
   ],
   "source": [
    "acc_test = [ acc_test_knn, acc_test_rf, acc_test_svm, acc_test_ann]\n",
    "title = [\"KNN\", \"RF\",\"SVM\",\"ANN\"]\n",
    "colors = ['green','red', 'purple', 'orange']\n",
    "plt.bar(title, acc_test, color = colors)\n",
    "plt.grid()\n",
    "plt.show()"
   ]
  },
  {
   "cell_type": "code",
   "execution_count": 77,
   "id": "6e801350",
   "metadata": {},
   "outputs": [
    {
     "data": {
      "image/png": "[encoded data removed]",
      "text/plain": [
       "<Figure size 640x480 with 1 Axes>"
      ]
     },
     "metadata": {},
     "output_type": "display_data"
    }
   ],
   "source": [
    "p = [p_knn, p_rf, p_svm, p_ann]\n",
    "title = [\"KNN\", \"RF\", \"SVM\", \"ANN\"]\n",
    "colors = ['green','red', 'purple', 'orange']\n",
    "plt.bar(title, acc_train, color = colors)\n",
    "plt.grid()\n",
    "plt.show()"
   ]
  }
 ],
 "metadata": {
  "kernelspec": {
   "display_name": "Python 3",
   "language": "python",
   "name": "python3"
  },
  "language_info": {
   "codemirror_mode": {
    "name": "ipython",
    "version": 3
   },
   "file_extension": ".py",
   "mimetype": "text/x-python",
   "name": "python",
   "nbconvert_exporter": "python",
   "pygments_lexer": "ipython3",
   "version": "3.13.5"
  }
 },
 "nbformat": 4,
 "nbformat_minor": 5
}
