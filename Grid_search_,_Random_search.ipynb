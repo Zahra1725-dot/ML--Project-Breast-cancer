{
  "nbformat": 4,
  "nbformat_minor": 0,
  "metadata": {
    "colab": {
      "provenance": [],
      "gpuType": "T4",
      "authorship_tag": "ABX9TyO6KRKn5kH33adCZtxS19Cv",
      "include_colab_link": true
    },
    "kernelspec": {
      "name": "python3",
      "display_name": "Python 3"
    },
    "language_info": {
      "name": "python"
    },
    "accelerator": "GPU"
  },
  "cells": [
    {
      "cell_type": "markdown",
      "metadata": {
        "id": "view-in-github",
        "colab_type": "text"
      },
      "source": [
        "<a href=\"https://colab.research.google.com/github/Zahra1725-dot/ML-Projects/blob/main/Grid_search_%2C_Random_search.ipynb\" target=\"_parent\"><img src=\"https://colab.research.google.com/assets/colab-badge.svg\" alt=\"Open In Colab\"/></a>"
      ]
    },
    {
      "cell_type": "code",
      "source": [
        "import tensorflow as tf\n",
        "from tensorflow import keras\n",
        "import sklearn\n",
        "import numpy as np"
      ],
      "metadata": {
        "id": "T0obX_Y4fJkZ"
      },
      "execution_count": 3,
      "outputs": []
    },
    {
      "cell_type": "code",
      "source": [
        "from sklearn.datasets import make_classification\n",
        "x,y = make_classification(n_samples=1000, n_features=20, n_classes=2, random_state=0)"
      ],
      "metadata": {
        "id": "HgMBXJIZgM_4"
      },
      "execution_count": 7,
      "outputs": []
    },
    {
      "cell_type": "code",
      "source": [
        "from sklearn.model_selection import train_test_split\n",
        "x_train, x_test, y_train, y_test= train_test_split(x, y, test_size=0.2)"
      ],
      "metadata": {
        "id": "bmza1rqvgh5A"
      },
      "execution_count": 8,
      "outputs": []
    },
    {
      "cell_type": "code",
      "source": [
        "from sklearn.preprocessing import StandardScaler\n",
        "scaler = StandardScaler()\n",
        "x_train = scaler.fit_transform(x_train)\n",
        "x_test = scaler.transform(x_test)"
      ],
      "metadata": {
        "id": "r1GmZkakhJH6"
      },
      "execution_count": 9,
      "outputs": []
    },
    {
      "cell_type": "code",
      "source": [
        "def create_model(hidden_units:16, optimizer:'adam' ):\n",
        "  model= keras.Sequential()\n",
        "  model.add(keras.layers.Dense(units=hidden_units, activation='relu', input_shape=(20,)))\n",
        "  model.add(keras.layers.Dense(units=16, activation='relu'))\n",
        "  model.add(keras.layers.Dense(units=1, activation='sigmoid'))\n",
        "\n",
        "  model.compile(optimizer = optimizer, loss = tf.losses.BinaryCrossentropy, Metrics=['accuracy'])\n",
        "  return model"
      ],
      "metadata": {
        "id": "vOBYib-nhlu7"
      },
      "execution_count": 13,
      "outputs": []
    },
    {
      "cell_type": "code",
      "source": [
        "params = {\n",
        "    'hidden_units': [16, 32, 64],\n",
        "    'optimizer': ['adam', 'rmsprom']\n",
        "}"
      ],
      "metadata": {
        "id": "y7oIyKJKjUXy"
      },
      "execution_count": 14,
      "outputs": []
    },
    {
      "cell_type": "code",
      "source": [
        "!pip install scikeras"
      ],
      "metadata": {
        "id": "0cllWt5tjpKp"
      },
      "execution_count": null,
      "outputs": []
    },
    {
      "cell_type": "code",
      "source": [
        "from scikeras.wrappers import KerasClassifier"
      ],
      "metadata": {
        "id": "tYynN_utj1Hw"
      },
      "execution_count": 16,
      "outputs": []
    },
    {
      "cell_type": "code",
      "source": [
        "model = KerasClassifier(model=create_model,\n",
        "                        optimizer='adam',\n",
        "                        hidden_units = 32,\n",
        "                        epochs=10,\n",
        "                        batch_size=16,\n",
        "                        verbose=0,\n",
        "                        validation_split=0.1\n",
        "                        )"
      ],
      "metadata": {
        "id": "s0eB0hLjkBID"
      },
      "execution_count": 18,
      "outputs": []
    },
    {
      "cell_type": "code",
      "source": [
        "from sklearn.model_selection import GridSearchCV\n"
      ],
      "metadata": {
        "id": "gcBMT5A0lAda"
      },
      "execution_count": 19,
      "outputs": []
    },
    {
      "cell_type": "code",
      "source": [
        "grid_search = GridSearchCV(estimator=model, param_grid=params, cv=3,verbose=0)"
      ],
      "metadata": {
        "id": "swKQ3cqclLtA"
      },
      "execution_count": 20,
      "outputs": []
    },
    {
      "cell_type": "code",
      "source": [
        "grid_search.fit(x_train, y_train)"
      ],
      "metadata": {
        "id": "BSVOAJB7lgxa"
      },
      "execution_count": null,
      "outputs": []
    },
    {
      "cell_type": "code",
      "source": [
        "print(grid_search.best_params_)"
      ],
      "metadata": {
        "id": "KblrzAEemMtR"
      },
      "execution_count": null,
      "outputs": []
    },
    {
      "cell_type": "code",
      "source": [
        "print(grid_search.best_score_)"
      ],
      "metadata": {
        "id": "xQQkzm_vmXhR"
      },
      "execution_count": null,
      "outputs": []
    },
    {
      "cell_type": "code",
      "source": [
        "best_model = grid_search.best_estimator_"
      ],
      "metadata": {
        "id": "Fg0XKoTCmiLo"
      },
      "execution_count": null,
      "outputs": []
    },
    {
      "cell_type": "code",
      "source": [
        "accracy_test = best_model.model_evaluate(x_test, y_test)\n",
        "print(accracy_test)"
      ],
      "metadata": {
        "id": "KhZawGEFmqRB"
      },
      "execution_count": null,
      "outputs": []
    }
  ]
}